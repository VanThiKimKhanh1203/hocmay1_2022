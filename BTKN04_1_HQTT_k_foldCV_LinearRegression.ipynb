{
  "nbformat": 4,
  "nbformat_minor": 0,
  "metadata": {
    "colab": {
      "provenance": [],
      "mount_file_id": "1BQ8ix3xrpV3peFo9dG019OL4W4SVGN8E",
      "authorship_tag": "ABX9TyNWqxR+3L/GE6ppF9BcKKfC",
      "include_colab_link": true
    },
    "kernelspec": {
      "name": "python3",
      "display_name": "Python 3"
    },
    "language_info": {
      "name": "python"
    }
  },
  "cells": [
    {
      "cell_type": "markdown",
      "metadata": {
        "id": "view-in-github",
        "colab_type": "text"
      },
      "source": [
        "<a href=\"https://colab.research.google.com/github/VanThiKimKhanh1203/hocmay1_2022/blob/Hoiquytuyentinh/BTKN04_1_HQTT_k_foldCV_LinearRegression.ipynb\" target=\"_parent\"><img src=\"https://colab.research.google.com/assets/colab-badge.svg\" alt=\"Open In Colab\"/></a>"
      ]
    },
    {
      "cell_type": "code",
      "execution_count": 1,
      "metadata": {
        "id": "dD1JzKw56ZOi"
      },
      "outputs": [],
      "source": [
        "import numpy as np\n",
        "import os\n",
        "from sklearn.model_selection import train_test_split\n",
        "from sklearn.model_selection import KFold\n",
        "from sklearn.metrics import mean_squared_error\n",
        "from sklearn.preprocessing import MinMaxScaler\n",
        "from sklearn.linear_model import LinearRegression\n",
        "from sklearn.preprocessing import StandardScaler"
      ]
    },
    {
      "cell_type": "code",
      "source": [
        "def readData(filename, folder=''):\n",
        "    data = np.loadtxt(os.path.join(folder, filename), delimiter=',')\n",
        "    X = data[:, :-1]\n",
        "    y = data[:, -1].reshape(-1, 1)\n",
        "    one = np.ones((X.shape[0], 1))\n",
        "    X = np.concatenate((one, X), axis=1)\n",
        "    return X, y"
      ],
      "metadata": {
        "id": "xlVI2qYC6n0q"
      },
      "execution_count": 2,
      "outputs": []
    },
    {
      "cell_type": "code",
      "source": [
        "def featureScalingSplit(X, y):\n",
        "    X_train, X_test, y_train, y_test = train_test_split(X, y, test_size=0.3, random_state=15)\n",
        "    sc_X = StandardScaler()\n",
        "    sc_y = StandardScaler()\n",
        "    X_train[:, 1:] = sc_X.fit_transform(X_train[:, 1:])\n",
        "    X_test[:, 1:] = sc_X.transform(X_test[:, 1:])\n",
        "    y_train = sc_y.fit_transform(y_train)\n",
        "    y_test = sc_y.transform(y_test)\n",
        "    return X_train, X_test, y_train, y_test"
      ],
      "metadata": {
        "id": "1JKgdm3V6sBW"
      },
      "execution_count": 3,
      "outputs": []
    },
    {
      "cell_type": "code",
      "source": [
        "def kFoldCrossValiation(X_train, y_train):\n",
        "    kf = KFold(n_splits=10)\n",
        "    step = 0\n",
        "    valitdate_models = {}\n",
        "    for train2_index, val_index in kf.split(X=X_train, y=y_train):\n",
        "        step = step + 1\n",
        "        regressor = LinearRegression()\n",
        "        print('\\tBước lặp huấn luyện thứ: ', step)\n",
        "        X_train2, X_val = X_train[train2_index], X_train[val_index]\n",
        "        y_train2, y_val = y_train[train2_index], y_train[val_index]\n",
        "        regressor.fit(X_train2, y_train2)\n",
        "        print('\\t\\tĐánh giá mô hình trên tập dữ liệu validation')\n",
        "        y_pred = regressor.predict(X_val)\n",
        "        print('\\t\\t\\tMSE: ', mean_squared_error(y_val, y_pred))\n",
        "        valitdate_models[mean_squared_error(y_val, y_pred)] = regressor\n",
        "    min_error = min(list(valitdate_models.keys()))\n",
        "    return valitdate_models[min_error]"
      ],
      "metadata": {
        "id": "pPnxTliK6wIg"
      },
      "execution_count": 4,
      "outputs": []
    },
    {
      "cell_type": "code",
      "source": [
        "def validateTestSet(X_test, y_test, regressor):\n",
        "    print(\"\\nĐánh giá hiệu năng mô hình trên tập dữ liệu test:\")\n",
        "    y_hat= regressor.predict(X_test)\n",
        "    print(\"\\tMSE: \", mean_squared_error(y_test, y_hat))\n",
        "    return mean_squared_error(y_test, y_hat)"
      ],
      "metadata": {
        "id": "a_CRQMQ-6yoM"
      },
      "execution_count": 5,
      "outputs": []
    },
    {
      "cell_type": "code",
      "source": [
        "def main():\n",
        "    X, y = readData('ex1data2.txt')\n",
        "    X_train, X_test, y_train, y_test = featureScalingSplit(X, y)\n",
        "    regressor = kFoldCrossValiation(X_train, y_train)\n",
        "    validateTestSet(X_test, y_test, regressor)"
      ],
      "metadata": {
        "id": "MDIU_YQu6026"
      },
      "execution_count": 6,
      "outputs": []
    },
    {
      "cell_type": "code",
      "source": [
        "if __name__ == \"__main__\":\n",
        "    main()"
      ],
      "metadata": {
        "id": "gnXVHpiC7AnB"
      },
      "execution_count": null,
      "outputs": []
    }
  ]
}