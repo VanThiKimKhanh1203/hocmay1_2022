{
  "nbformat": 4,
  "nbformat_minor": 0,
  "metadata": {
    "colab": {
      "provenance": [],
      "include_colab_link": true
    },
    "kernelspec": {
      "name": "python3",
      "display_name": "Python 3"
    },
    "language_info": {
      "name": "python"
    }
  },
  "cells": [
    {
      "cell_type": "markdown",
      "metadata": {
        "id": "view-in-github",
        "colab_type": "text"
      },
      "source": [
        "<a href=\"https://colab.research.google.com/github/VanThiKimKhanh1203/hocmay1_2022/blob/Hoiquytuyentinh/B%C3%A0i_t%E1%BA%ADp_v%E1%BB%81_nh%C3%A0_3_S%E1%BB%AD_d%E1%BB%A5ng_l%E1%BB%9Bp_LinearRegression.ipynb\" target=\"_parent\"><img src=\"https://colab.research.google.com/assets/colab-badge.svg\" alt=\"Open In Colab\"/></a>"
      ]
    },
    {
      "cell_type": "code",
      "execution_count": 7,
      "metadata": {
        "id": "Q3SzZSqxgwlW"
      },
      "outputs": [],
      "source": [
        "import os\n",
        "import numpy as np\n",
        "from sklearn.preprocessing import MinMaxScaler\n",
        "from sklearn.linear_model import LinearRegression"
      ]
    },
    {
      "cell_type": "code",
      "source": [
        "D = np.loadtxt(os.path.join(\"/content/drive/MyDrive\", \"ex1data2.txt\"), delimiter=\",\")\n",
        "print('Kích thước của tập dữ liệu: ', D.shape)"
      ],
      "metadata": {
        "colab": {
          "base_uri": "https://localhost:8080/"
        },
        "id": "39ajnnlCg1Jt",
        "outputId": "08c61bc9-9f44-45bc-efd2-f1bf296a6f2b"
      },
      "execution_count": 9,
      "outputs": [
        {
          "output_type": "stream",
          "name": "stdout",
          "text": [
            "Kích thước của tập dữ liệu:  (47, 3)\n"
          ]
        }
      ]
    },
    {
      "cell_type": "code",
      "source": [
        "print('Thực hiện MinMaxScaler')\n",
        "#Khởi tạo bộ điều chỉnh dữ liệu\n",
        "scaler = MinMaxScaler()"
      ],
      "metadata": {
        "colab": {
          "base_uri": "https://localhost:8080/"
        },
        "id": "cBc_hrFbg_Tx",
        "outputId": "38884540-bf42-4928-fd5f-54d2b8050cd8"
      },
      "execution_count": 10,
      "outputs": [
        {
          "output_type": "stream",
          "name": "stdout",
          "text": [
            "Thực hiện MinMaxScaler\n"
          ]
        }
      ]
    },
    {
      "cell_type": "code",
      "source": [
        "#Phải thực hiện thao tác fit(data) trước khi điều chỉnh dữ liệu\n",
        "scaler.fit(D)"
      ],
      "metadata": {
        "colab": {
          "base_uri": "https://localhost:8080/"
        },
        "id": "fILostc2hHnX",
        "outputId": "b0f9219f-40c2-4fcf-88b8-280726cbc62a"
      },
      "execution_count": 11,
      "outputs": [
        {
          "output_type": "execute_result",
          "data": {
            "text/plain": [
              "MinMaxScaler()"
            ]
          },
          "metadata": {},
          "execution_count": 11
        }
      ]
    },
    {
      "cell_type": "code",
      "source": [
        "#Thực hiện điều chỉnh dữ liệu\n",
        "D = scaler.transform(D)\n",
        "print('Lấy ra tập dữ liệu X, y')\n",
        "X, y = D[:,:-1], D[:, -1]\n",
        "print('Kích thước tập X: ', X.shape)\n",
        "print('Kích thước vector y: ', y.shape)\n",
        "print('Huấn luyện mô hình LinearRegression')"
      ],
      "metadata": {
        "colab": {
          "base_uri": "https://localhost:8080/"
        },
        "id": "JFMbc0cVhNTd",
        "outputId": "6d0cb0b3-205e-48bc-8197-1e7c7bb4f149"
      },
      "execution_count": 12,
      "outputs": [
        {
          "output_type": "stream",
          "name": "stdout",
          "text": [
            "Lấy ra tập dữ liệu X, y\n",
            "Kích thước tập X:  (47, 2)\n",
            "Kích thước vector y:  (47,)\n",
            "Huấn luyện mô hình LinearRegression\n"
          ]
        }
      ]
    },
    {
      "cell_type": "code",
      "source": [
        "#Khởi tạo mô hình\n",
        "model = LinearRegression()"
      ],
      "metadata": {
        "id": "MeSHpjIrhQlH"
      },
      "execution_count": 13,
      "outputs": []
    },
    {
      "cell_type": "code",
      "source": [
        "#Huấn luyện mô hình với tập dữ liệu X, y\n",
        "model.fit(X,y)"
      ],
      "metadata": {
        "colab": {
          "base_uri": "https://localhost:8080/"
        },
        "id": "x2exRHeUhUd1",
        "outputId": "cc28325a-7c05-4920-ad32-47456f2bfd02"
      },
      "execution_count": 14,
      "outputs": [
        {
          "output_type": "execute_result",
          "data": {
            "text/plain": [
              "LinearRegression()"
            ]
          },
          "metadata": {},
          "execution_count": 14
        }
      ]
    },
    {
      "cell_type": "code",
      "source": [
        "#Bộ trọng số tối ưu:\n",
        "print('\\t\\tw optimal: ', model.coef_)"
      ],
      "metadata": {
        "colab": {
          "base_uri": "https://localhost:8080/"
        },
        "id": "c2lm3RtUhYtv",
        "outputId": "3c0d500d-2300-45d9-ff22-78cbaf64eb9f"
      },
      "execution_count": 15,
      "outputs": [
        {
          "output_type": "stream",
          "name": "stdout",
          "text": [
            "\t\tw optimal:  [ 0.95241114 -0.06594731]\n"
          ]
        }
      ]
    }
  ]
}