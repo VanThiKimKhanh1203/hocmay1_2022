{
  "nbformat": 4,
  "nbformat_minor": 0,
  "metadata": {
    "colab": {
      "provenance": [],
      "authorship_tag": "ABX9TyPJVpP9zvbhRktAvyd9YGHX",
      "include_colab_link": true
    },
    "kernelspec": {
      "name": "python3",
      "display_name": "Python 3"
    },
    "language_info": {
      "name": "python"
    }
  },
  "cells": [
    {
      "cell_type": "markdown",
      "metadata": {
        "id": "view-in-github",
        "colab_type": "text"
      },
      "source": [
        "<a href=\"https://colab.research.google.com/github/VanThiKimKhanh1203/hocmay1_2022/blob/Hoiquytuyentinh/tfidf.ipynb\" target=\"_parent\"><img src=\"https://colab.research.google.com/assets/colab-badge.svg\" alt=\"Open In Colab\"/></a>"
      ]
    },
    {
      "cell_type": "code",
      "execution_count": null,
      "metadata": {
        "id": "bGZtwl9ogoDC"
      },
      "outputs": [],
      "source": [
        "import numpy as np\n",
        "# Hệ thống dấu câu\n",
        "PUNC = [\",\", \".\", \"?\", \"(\", \")\", \"+\", \"-\", \"'s\"]"
      ]
    },
    {
      "cell_type": "code",
      "source": [
        "def readFile(file_name):\n",
        "    f = open(file_name)\n",
        "    line_list = []\n",
        "    for line in f:\n",
        "        line_list.append(line.strip())\n",
        "    return line_list"
      ],
      "metadata": {
        "id": "FJNirX9Pgvds"
      },
      "execution_count": null,
      "outputs": []
    },
    {
      "cell_type": "code",
      "source": [
        "def ChuyenDoi(line_list: list[str]):\n",
        "    word_list = []\n",
        "    # Tách từ khỏi câu và xóa dấu câu\n",
        "    for line in line_list:\n",
        "        temp = line.split(\" \")\n",
        "        for i in temp:\n",
        "            if len(i) > 2:\n",
        "                if i[-2:] in PUNC:\n",
        "                    i = i[:-2]\n",
        "                if i[0] in PUNC:\n",
        "                    i = i[1:]\n",
        "                if i[-1] in PUNC:\n",
        "                    i = i[:-1]\n",
        "                i = i.lower()\n",
        "                word_list.append(i)\n",
        "    return word_list"
      ],
      "metadata": {
        "id": "ypiijpHRg0vR"
      },
      "execution_count": null,
      "outputs": []
    },
    {
      "cell_type": "code",
      "source": [
        "def TanSo(word_list: list[str]):\n",
        "    result = {}\n",
        "    for word in word_list:\n",
        "        if word in result:\n",
        "            result[word] += 1\n",
        "        else:\n",
        "            result[word] = 1\n",
        "    return result"
      ],
      "metadata": {
        "id": "G0jSvxhYg3eL"
      },
      "execution_count": null,
      "outputs": []
    },
    {
      "cell_type": "code",
      "source": [
        "def mergeDict(a: list[dict]):\n",
        "    result = {}\n",
        "    for freq_dict in a:\n",
        "        for key in freq_dict.keys():\n",
        "            if key in result:\n",
        "                result[key] += freq_dict[key]\n",
        "            else:\n",
        "                result[key] = freq_dict[key]\n",
        "    # Sắp xếp\n",
        "    return dict(sorted(result.items(), key=lambda item: item[1], reverse=True))"
      ],
      "metadata": {
        "id": "eCbskpYyg6NY"
      },
      "execution_count": null,
      "outputs": []
    }
  ]
}